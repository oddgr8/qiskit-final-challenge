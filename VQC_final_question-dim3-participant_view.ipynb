{
 "cells": [
  {
   "cell_type": "markdown",
   "metadata": {},
   "source": [
    "<img src=\"https://s3-ap-southeast-1.amazonaws.com/he-public-data/wordmark_black65ee464.png\" width=\"700\">"
   ]
  },
  {
   "cell_type": "markdown",
   "metadata": {},
   "source": [
    "# Week 2 : Final Challenge"
   ]
  },
  {
   "cell_type": "markdown",
   "metadata": {},
   "source": [
    "**Welcome to the final challenge!**  \n",
    "\n",
    "In the previous notebook we've seen how we can use the VQC class in Aqua to classify the digits `0` and `1`. However, classifying `0` and `1` is relatively simple as digits `0` and `1` are easily distinguishable. `4` and `9` however, are notoriously similar, with a _loop_ on the top and a _line_ on the bottom. This can be corroborated looking at our 2-D t-SNE plot from the previous notebook (Fig.2), we see that `0` and `1` are clustered relatively far from each other making them easily distinguishable, however `4` and `9` are overlapping. In this challenge we are providing you with a dataset with digits reduced to **dimension 3**. For example, in Fig.1 we can see the dimension reduction of the 784 dimension vector for digit `4` into a dimension 3 feature vector. \n",
    "\n",
    "**Fig.1 : Features of the digit `4` after reducing dimension to 3:** \n",
    "<img src=\"https://s3-ap-southeast-1.amazonaws.com/he-public-data/four2a7701f.png\" width=\"700\">\n",
    "\n",
    "**Fig.2 : MNIST dataset after dimension reduction to 2 as given in the previous notebook:**\n",
    "<img src=\"https://s3-ap-southeast-1.amazonaws.com/he-public-data/mnist_plot53adb39.png\" width=\"400\">\n",
    "\n",
    "## Challenge Question   \n",
    "Use the VQC method from Aqua to classify the digits `4` and `9` as given in the dataset **challenge_dataset_4_9_dim3_training.csv** provided to you. \n",
    "\n",
    "## Rules and Guidelines\n",
    "\n",
    "* Your `QuantumCircuit` can have a **maximum of 6 qubits**.\n",
    "* **Cost of the circuit should be less than 2000**.  \n",
    "* You should not change names of the functions `feature_map()` , `variational_circuit()`  and `return_optimal_params()`.\n",
    "* All the functions must return the value types as mentioned. \n",
    "* All circuits must be Qiskit generated.\n",
    "* Best of all submissions is considered for grading.\n",
    "\n",
    "## Judging criteria \n",
    "\n",
    "* Primary judgement is based on the **accuracy of the model**, higher the better. **Accuracies which differ by less than 0.005 will be considered to be equal**. ex: Accuracies 0.7783 and 0.7741 will be considered to be equal.\n",
    "* If the accuracies are tied, the tie will be broken using **cost of the circuit** as the metric, lower the better. \n",
    "* In the case that both accuracy of the model and cost of the circuit are equal, **time of submission** is taken into account, Earlier the better. \n",
    "\n",
    "_**Important Note:**_ The **leaderboard shown during the progress of the competition** will only display accuracy of the model and is **not the final leaderboard**. Breaking ties between accuracy of the model by considering lower **cost of circuit** will only be done after the competition ends. **The final leaderboard will be announced post the event** which will take into consideration cost of the circuit and time of submission. \n",
    "\n",
    "## Certificate Eligibility\n",
    "\n",
    "Everyone who scores an **accuracy greater than 0.70 (i.e, 70%) will be eligible for a certificate**. \n",
    "\n",
    "\n",
    "An explanation on how to calculate the accuracy of the model and the cost of the circuit is given in the end inside the `grade()` function. Before you submit, make sure the grading function is running on your device. To save time you can also use the grading function provided to calculate the accuracy and circuit cost without having to submit your solution onto HackerEarth. Remember, your final score will be determined using the same grading methods as given in this notebook, but will be evaluated on unseen datapoints."
   ]
  },
  {
   "cell_type": "code",
   "execution_count": null,
   "metadata": {},
   "outputs": [],
   "source": [
    "# installing a few dependencies\n",
    "!pip install --upgrade seaborn==0.10.1\n",
    "!pip install --upgrade scikit-learn==0.23.1\n",
    "!pip install --upgrade matplotlib==3.2.0\n",
    "!pip install --upgrade pandas==1.0.4\n",
    "!pip install --upgrade qiskit==0.19.6 \n",
    "!pip install --upgrade plotly==4.9.0\n",
    "\n",
    "# the output will be cleared after installation\n",
    "from IPython.display import clear_output\n",
    "clear_output()"
   ]
  },
  {
   "cell_type": "code",
   "execution_count": null,
   "metadata": {},
   "outputs": [],
   "source": [
    "# we have imported a few libraries we thing might be useful \n",
    "from qiskit import QuantumCircuit, QuantumRegister, ClassicalRegister\n",
    "from qiskit import Aer\n",
    "\n",
    "from qiskit import *\n",
    "import numpy as np\n",
    "from qiskit.visualization import plot_bloch_multivector, plot_histogram\n",
    "%matplotlib inline\n",
    "import matplotlib.pyplot as plt\n",
    "\n",
    "import time\n",
    "from qiskit.circuit.library import ZZFeatureMap, ZFeatureMap, PauliFeatureMap, RealAmplitudes, EfficientSU2\n",
    "from qiskit.aqua.utils import split_dataset_to_data_and_labels, map_label_to_class_name\n",
    "from qiskit.aqua import QuantumInstance\n",
    "from qiskit.aqua.algorithms import VQC\n",
    "from qiskit.aqua.components.optimizers import COBYLA\n",
    "\n",
    "\n",
    "# The the write_and_run() magic function creates a file with the content inside the cell that it is run. \n",
    "# You have used this in previous exercises for creating your submission files. \n",
    "# It will be used for the same purpose here.\n",
    "\n",
    "from IPython.core.magic import register_cell_magic\n",
    "@register_cell_magic\n",
    "def write_and_run(line, cell):\n",
    "    argz = line.split()\n",
    "    file = argz[-1]\n",
    "    mode = 'w'\n",
    "    with open(file, mode) as f:\n",
    "        f.write(cell)\n",
    "    get_ipython().run_cell(cell)"
   ]
  },
  {
   "cell_type": "markdown",
   "metadata": {},
   "source": [
    "# Solution\n",
    "\n",
    "## Data loading \n",
    "\n",
    "This notebook has helper functions and code snippets to save your time and help you concentrate on what's important: Increasing the accuracy of your model. Running the cell below will import the challenge dataset and will be available to you as `data`. Before running the cell below store the dataset in this file structure (or change the `data_path` accordingly):  \n",
    "\n",
    "- `challenge_notebook.ipynb`\n",
    "- `dataset`\n",
    "    - `challenge_dataset_4_9.csv`\n"
   ]
  },
  {
   "cell_type": "code",
   "execution_count": null,
   "metadata": {},
   "outputs": [],
   "source": [
    "data_path='./dataset/'\n",
    "data = np.loadtxt(data_path + \"challenge_dataset_4_9_dim3_training.csv\", delimiter=\",\")\n",
    "\n",
    "# extracting the first column which contains the labels\n",
    "data_labels = data[:, :1].reshape(data.shape[0],)\n",
    "# extracting all the columns but the first which are our features\n",
    "data_features = data[:, 1:]"
   ]
  },
  {
   "cell_type": "markdown",
   "metadata": {},
   "source": [
    "## Visualizing the dataset\n",
    "\n",
    "Before we dive into solving the question it is always beneficial to look at the dataset pictographically. This will help us understand patterns which we could leverage when designing our feature maps and variational circuits for example."
   ]
  },
  {
   "cell_type": "code",
   "execution_count": null,
   "metadata": {},
   "outputs": [],
   "source": [
    "import plotly.express as px\n",
    "import pandas as pd\n",
    "\n",
    "# creating a dataframe using pandas only for the purpose fo plotting\n",
    "df = pd.DataFrame({'Component 0':data_features[:,0], 'Component 1':data_features[:,1], \n",
    "                   'Component 2':data_features[:,2], 'label':data_labels})\n",
    "\n",
    "fig = px.scatter_3d(df, x='Component 0', y='Component 1', z='Component 2', color='label')\n",
    "fig.show()"
   ]
  },
  {
   "cell_type": "markdown",
   "metadata": {},
   "source": [
    "## Extracting the training dataset\n",
    "\n",
    "The given dataset has already been reduced in dimension and normalized, so, further pre-processing isn't techincally required. You can do so if you want to, but the testing dataset will be of the same dimension and normalisation as the training dataset provided. Training a dataset of size 6,000 will take multiple hours so you'll need to extract a subset of the dataset to use as a training dataset. The accuracy of the model may vary based on the datapoints and size of the training dataset you choose. Thus, experimenting with various sizes and datapoints will be necessary. For example, Increasing the training dataset size may increase the accuracy of the model however it will increase the training time as well.\n",
    "\n",
    "Use the space below to extract your training dataset from `data`. For your convenience `data` has been segregated into `data_labels` and `data_features`.\n",
    "\n",
    "* `data_labels` : 6,000 $\\times$ 1 column vector with each entry either `4` or `9` \n",
    "* `data_features` : 6,000 $\\times$ 3 matrix with each row having the feature corresponding to the label in `data_labels`\n",
    "\n",
    "**Note:** This process was done in the previous [VQC notebook](https://github.com/Qiskit-Challenge-India/2020/blob/master/Day%206%2C%207%2C8/VQC_notebook.ipynb) with `0` and `1` labels and can be modified and used here as well. "
   ]
  },
  {
   "cell_type": "code",
   "execution_count": null,
   "metadata": {},
   "outputs": [],
   "source": [
    "### WRITE YOUR CODE BETWEEN THESE LINES - START\n",
    "\n",
    "# do your classical pre-processing here\n",
    "\n",
    "# store your training and testing datasets to be input in the VQC optimizer in the \"training_input\" and \n",
    "# \"testing_input\" variables respectively. These variables will eb accessed whiile creating a VQC instance later. \n",
    "training_input = None\n",
    "testing_input = None\n",
    "\n",
    "### WRITE YOUR CODE BETWEEN THESE LINES - END"
   ]
  },
  {
   "cell_type": "markdown",
   "metadata": {},
   "source": [
    "## Building a Quantum Feature Map\n",
    "\n",
    "Given below is the `feature_map()` function. It takes no input and has to return a feature map which is either a `FeatureMap` or `QuantumCircuit` object. In the previous notebook you've learnt how feature maps work and the process of using existing feature maps in Qiskit or creating your own. In the space given **inside the function** you have to create a feature map and return it.   \n",
    "\n",
    "\n",
    "**IMPORTANT:** \n",
    "* If you require Qiskit import statements other than the ones provided in the cell below, please include them inside the appropriate space provided. **All additional import statements must be Qiskit imports.** \n",
    "* the first line of the cell below must be `%%write_and_run feature_map.py`. This function stores the content of the cell below in the file `feature_map.py`"
   ]
  },
  {
   "cell_type": "code",
   "execution_count": null,
   "metadata": {},
   "outputs": [],
   "source": [
    "%%write_and_run feature_map.py\n",
    "# the write_and_run function writes the content in this cell into the file \"feature_map.py\"\n",
    "\n",
    "### WRITE YOUR CODE BETWEEN THESE LINES - START\n",
    "    \n",
    "# import libraries that are used in the function below.\n",
    "from qiskit import QuantumCircuit\n",
    "from qiskit.circuit import ParameterVector\n",
    "from qiskit.circuit.library import ZZFeatureMap, ZFeatureMap, PauliFeatureMap\n",
    "    \n",
    "### WRITE YOUR CODE BETWEEN THESE LINES - END\n",
    "\n",
    "def feature_map(): \n",
    "    # BUILD FEATURE MAP HERE - START\n",
    "    \n",
    "    # import required qiskit libraries if additional libraries are required\n",
    "    \n",
    "    # build the feature map\n",
    "    feature_map = None\n",
    "    \n",
    "    # BUILD FEATURE MAP HERE - END\n",
    "    \n",
    "    #return the feature map which is either a FeatureMap or QuantumCircuit object\n",
    "    return feature_map"
   ]
  },
  {
   "cell_type": "markdown",
   "metadata": {},
   "source": [
    "## Building a Variational Circuit\n",
    "\n",
    "Given below is the `variational_circuit()` function. It takes no input and has to return a variational circuit which is either a `VariationalForm` or `QuantumCircuit` object. In the previous notebook you've learnt how variational circuits work and the process of using existing variational circuit in Qiskit or creating your own. You have to create a variational circuit in the space given **inside the function** and return it. You can find various variational circuits in the [Qiskit Circuit Library](https://qiskit.org/documentation/apidoc/circuit_library.html) under N-local circuits.\n",
    "\n",
    "**IMPORTANT:** \n",
    "* If you require Qiskit import statements other than the ones provided in the cell below, please include them inside the appropriate space provided. **All additional import statements must be Qiskit imports.** \n",
    "* the first line of the cell below must be `%%write_and_run feature_map.py`. This function stores the content of the cell below in the file `variational_circuit.py`"
   ]
  },
  {
   "cell_type": "code",
   "execution_count": null,
   "metadata": {},
   "outputs": [],
   "source": [
    "%%write_and_run variational_circuit.py\n",
    "# the write_and_run function writes the content in this cell into the file \"variational_circuit.py\"\n",
    "\n",
    "### WRITE YOUR CODE BETWEEN THESE LINES - START\n",
    "    \n",
    "# import libraries that are used in the function below.\n",
    "from qiskit import QuantumCircuit\n",
    "from qiskit.circuit import ParameterVector\n",
    "from qiskit.circuit.library import  RealAmplitudes, EfficientSU2\n",
    "    \n",
    "### WRITE YOUR CODE BETWEEN THESE LINES - END\n",
    "\n",
    "def variational_circuit():\n",
    "    # BUILD VARIATIONAL CIRCUIT HERE - START\n",
    "    \n",
    "    # import required qiskit libraries if additional libraries are required\n",
    "    \n",
    "    # build the variational circuit\n",
    "    var_circuit = None\n",
    "\n",
    "    # BUILD VARIATIONAL CIRCUIT HERE - END\n",
    "    \n",
    "    # return the variational circuit which is either a VaritionalForm or QuantumCircuit object\n",
    "    return var_circuit"
   ]
  },
  {
   "cell_type": "markdown",
   "metadata": {},
   "source": [
    "## Choosing a Classical Optimizer\n",
    "\n",
    "In the `classical_optimizer()` function given below you will have to import the optimizer of your choice from [`qiskit.aqua.optimizers`](https://qiskit.org/documentation/apidoc/qiskit.aqua.components.optimizers.html) and return it. This function will not be called by the grading function `grade()` and thus the name of the function `classical_optimizer()`can be changed if needed. "
   ]
  },
  {
   "cell_type": "code",
   "execution_count": null,
   "metadata": {},
   "outputs": [],
   "source": [
    "def classical_optimizer():\n",
    "    # CHOOSE AND RETURN CLASSICAL OPTIMIZER OBJECT - START\n",
    "    \n",
    "    # import the required clasical optimizer from qiskit.aqua.optimizers\n",
    "    \n",
    "    # create an optimizer object\n",
    "    cls_opt = None\n",
    "    \n",
    "    # CHOOSE AND RETURN CLASSICAL OPTIMIZER OBJECT - END\n",
    "    return cls_opt"
   ]
  },
  {
   "cell_type": "markdown",
   "metadata": {},
   "source": [
    "### Callback Function\n",
    "\n",
    "The `VQC` class can take in a callback function to which the following parameters will be passed after every optimization cycle of the algorithm:\n",
    "\n",
    "* `eval_count` : the evaulation counter\n",
    "* `var_params` : value of parameters of the variational circuit\n",
    "* `eval_val`  : current cross entropy cost \n",
    "* `index` : the batch index"
   ]
  },
  {
   "cell_type": "code",
   "execution_count": null,
   "metadata": {},
   "outputs": [],
   "source": [
    "def call_back_vqc(eval_count, var_params, eval_val, index):\n",
    "    print(\"eval_count: {}\".format(eval_count))\n",
    "    print(\"var_params: {}\".format(var_params))\n",
    "    print(\"eval_val: {}\".format(eval_val))\n",
    "    print(\"index: {}\".format(index))"
   ]
  },
  {
   "cell_type": "markdown",
   "metadata": {},
   "source": [
    "## Optimization Step\n",
    "\n",
    "This is where the whole VQC algorithm will come together. First we create an instance of the `VQC` class. "
   ]
  },
  {
   "cell_type": "code",
   "execution_count": null,
   "metadata": {},
   "outputs": [],
   "source": [
    "# a fixed seed so that we get the same answer when the same input is given. \n",
    "seed = 10598\n",
    "\n",
    "# setting our backend to qasm_simulator with the \"statevector\" method on. This particular setup is given as it was \n",
    "# found to perform better than most. Feel free to play around with different backend options.\n",
    "backend = Aer.get_backend('qasm_simulator')\n",
    "backend_options = {\"method\": \"statevector\"}\n",
    "\n",
    "# creating a quantum instance using the backend and backend options taken before\n",
    "quantum_instance = QuantumInstance(backend, shots=1024, seed_simulator=seed, seed_transpiler=seed, \n",
    "                                   backend_options=backend_options)\n",
    "\n",
    "# creating a VQC instance which you will be used for training. Make sure you input the correct training_dataset and \n",
    "# testing_dataset as defined in your program.\n",
    "vqc = VQC(optimizer=classical_optimizer(), \n",
    "          feature_map=feature_map(), \n",
    "          var_form=variational_circuit(), \n",
    "          callback=call_back_vqc, \n",
    "          training_dataset=training_input,     # training_input must be initialized with your training dataset\n",
    "          test_dataset=test_input)             # testing_input must be initialized with your testing dataset"
   ]
  },
  {
   "cell_type": "markdown",
   "metadata": {},
   "source": [
    "Now, let's run the VQC classification routine"
   ]
  },
  {
   "cell_type": "code",
   "execution_count": null,
   "metadata": {},
   "outputs": [],
   "source": [
    "start = time.process_time()\n",
    "\n",
    "result = vqc.run(quantum_instance)\n",
    "\n",
    "print(\"time taken: \")\n",
    "print(time.process_time() - start)\n",
    "\n",
    "print(\"testing success ratio: {}\".format(result['testing_accuracy']))"
   ]
  },
  {
   "cell_type": "markdown",
   "metadata": {},
   "source": [
    "## Storing the optimal parameters for grading\n",
    "\n",
    "Once the training step of the vqc algorithm is done we obtain the optimal parameters for our specific variational form. For the grading function to be able to access these optimal parameters you will need to follow the steps below. \n",
    "\n",
    "* **Step 1**: Run the cell below with `print(repr(vqc.optimal_params))`. \n",
    "* **Step 2**: Copy the matrix of optimal parameters and store it in the variable `optimal_parameters` inside the function `return_optimal_params()` in the next cell. This will enable us to extract it while calculating the accuracy your the model during grading. Given below is a pictographical explanation of the same:  \n",
    "\n",
    "<img src=\"https://s3-ap-southeast-1.amazonaws.com/he-public-data/opt_params456b075.png\" width=\"800\">"
   ]
  },
  {
   "cell_type": "code",
   "execution_count": null,
   "metadata": {},
   "outputs": [],
   "source": [
    "print(repr(vqc.optimal_params))"
   ]
  },
  {
   "cell_type": "code",
   "execution_count": null,
   "metadata": {},
   "outputs": [],
   "source": [
    "%%write_and_run optimal_params.py\n",
    "# # the write_and_run function writes the content in this cell into the file \"optimal_params.py\"\n",
    "\n",
    "### WRITE YOUR CODE BETWEEN THESE LINES - START\n",
    "    \n",
    "# import libraries that are used in the function below.\n",
    "import numpy as np\n",
    "    \n",
    "### WRITE YOUR CODE BETWEEN THESE LINES - END\n",
    "\n",
    "def return_optimal_params():\n",
    "    # STORE THE OPTIMAL PARAMETERS AS AN ARRAY IN THE VARIABLE optimal_parameters \n",
    "    \n",
    "    optimal_parameters = None\n",
    "    \n",
    "    # STORE THE OPTIMAL PARAMETERS AS AN ARRAY IN THE VARIABLE optimal_parameters \n",
    "    return np.array(optimal_parameters)"
   ]
  },
  {
   "cell_type": "markdown",
   "metadata": {},
   "source": [
    "## Submission\n",
    "\n",
    "Before we go any further, check that you have the three files `feature_map.py`, `variational_circuit.py` and `optimal_params.py` in the **same working directory as this notebook**. If you do not, then go back to the start and run the notebook making sure you have filled in the code where its required. When you run the cell below, all the three files `feature_map.py`, `variational_circuit.py` and `optimal_params.py` are combined into one file named **\"answer.py\"**. Now your working directory will have four python (.py) files out of which **\"answer.py\"** is the submission file: \n",
    "* `answer.py` <- upload this file onto HackerEarth and click on \"Submit and Evaluate\"\n",
    "* `feature_map.py`\n",
    "* `variational_circuit.py`\n",
    "* `optimal_params.py`"
   ]
  },
  {
   "cell_type": "code",
   "execution_count": null,
   "metadata": {},
   "outputs": [],
   "source": [
    "solution = ['feature_map.py','variational_circuit.py','optimal_params.py']\n",
    "file = open(\"answer.py\",\"w\")\n",
    "file.truncate(0)\n",
    "for i in solution:    \n",
    "    with open(i) as f:\n",
    "        with open(\"answer.py\", \"a\") as f1:\n",
    "            for line in f:\n",
    "                f1.write(line)\n",
    "file.close()"
   ]
  },
  {
   "cell_type": "markdown",
   "metadata": {},
   "source": [
    "## Grading Function\n",
    "\n",
    "Given below is the grading function that we shall use to grade your submission with a test dataset that is of the same format as `challenge_dataset_4_9.csv`. You can use it to grade your submission by extracting a few points out of the `challenge_dataset_4_9.csv` to get a basic idea of how your model is performing. "
   ]
  },
  {
   "cell_type": "code",
   "execution_count": null,
   "metadata": {},
   "outputs": [],
   "source": [
    "#imports required for the grading function \n",
    "from qiskit import *\n",
    "from qiskit.aqua import QuantumInstance\n",
    "from qiskit.aqua.algorithms import VQC\n",
    "from qiskit.aqua.components.feature_maps import FeatureMap\n",
    "from qiskit.aqua.components.variational_forms import VariationalForm\n",
    "import numpy as np"
   ]
  },
  {
   "cell_type": "markdown",
   "metadata": {},
   "source": [
    "### Working of the grading function\n",
    "\n",
    "The grading function `grade()` takes as **input**: \n",
    "\n",
    "* `test_data`: (`np.ndarray`) -- **no. of datapoints $\\times$ dimension of data** : the datapoints against which we want to test our model. \n",
    "\n",
    "\n",
    "* `test_labels`: (`np.ndarray`) -- **no. of datapoints $\\times$ 1** : A column vector with each entry either 0 or 1 as entries.\n",
    "\n",
    "\n",
    "* `feature_map`: (`QuantumCircuit` or `FeatureMap`) -- A quantum feature map which is the output of `feature_map()` defined earlier.\n",
    "\n",
    "\n",
    "* `variational_form`: (`QuantumCircuit` or `VariationalForm`) -- A variational form which is the output of `variational_circuit()` defined earlier.\n",
    "\n",
    "\n",
    "* `optimal_params`: (`numpy.ndarray`) -- the optimal parameters obtained after running the VQC algorithm above. These are the values obtained when the function `return_optimal_params()` is run. \n",
    "\n",
    "\n",
    "* `find_circuit_cost` : (`bool`) -- Calculates the circuit cost if set to `True`. Circuit cost is calculated by converting the circuit to the basis gate set `\\[ 'u3', 'cx'\\]` and then applying the formula **cost = 1$\\times$(no.of u3 gates) + 10$\\times$(no.of cx gates)**.\n",
    "\n",
    "\n",
    "* `verbose` : (`bool`) -- prints the result message if set to `True`.\n",
    "\n",
    "And gives as **output**: \n",
    "\n",
    "* `model_accuracy` : (`numpy.float64`) -- percent accuracy of the model. \n",
    "\n",
    "\n",
    "* `circuit_cost`: (`int`) -- circuit cost as explained above.\n",
    "\n",
    "\n",
    "* `ans`: (`tuple`) -- Output of the `VQC.predict()` method. \n",
    "\n",
    "\n",
    "* `result_msg`: (`str`) -- Result message which also outputs the error message in case of one.\n",
    "\n",
    "\n",
    "* `unrolled_circuit`: (`QuantumCircuit` or `None`) -- the circuit obtained after unrolling the full VQC circuit and substituting the optimal parameters to the basis gate set `\\[ 'u3', 'cx'\\]`.\n",
    "\n",
    "**Note:** if you look inside the `grade()` function in Section 2 you'll see that we have initialized a COBYLA optimizer though the prediction step will not require one. Similarily we have given a dataset to `training dataset`. Both of these are dummy variables. The reason for this is because these are not optional variables the `VQC` class instantiation.  "
   ]
  },
  {
   "cell_type": "code",
   "execution_count": null,
   "metadata": {},
   "outputs": [],
   "source": [
    "def grade(test_data, test_labels, feature_map, variational_form, optimal_params, find_circuit_cost=True, verbose=True):\n",
    "    seed = 10598\n",
    "    model_accuracy = None \n",
    "    circuit_cost=None \n",
    "    ans = None\n",
    "    unrolled_circuit = None\n",
    "    result_msg=''\n",
    "    data_dim = np.array(test_data).shape[1]\n",
    "    dataset_size = np.array(test_data).shape[0]\n",
    "    dummy_training_dataset=training_input = {'A':np.ones((2,data_dim)), 'B':np.ones((2, data_dim))}\n",
    "    \n",
    "    # converting 4's to 0's and 9's to 1's for checking \n",
    "    test_labels_transformed = np.where(test_labels==4, 0., 1.)\n",
    "    max_qubit_count = 6\n",
    "    max_circuit_cost = 2000\n",
    "    \n",
    "    # Section 1\n",
    "    if feature_map is None:\n",
    "        result_msg += 'feature_map variable is None. Please submit a valid entry' if verbose else ''\n",
    "    elif variational_form is None: \n",
    "        result_msg += 'variational_form variable is None. Please submit a valid entry' if verbose else ''\n",
    "    elif optimal_params is None: \n",
    "        result_msg += 'optimal_params variable is None. Please submit a valid entry' if verbose else ''\n",
    "    elif test_data is None: \n",
    "        result_msg += 'test_data variable is None. Please submit a valid entry' if verbose else ''\n",
    "    elif test_labels is None: \n",
    "        result_msg += 'test_labels variable is None. Please submit a valid entry' if verbose else ''\n",
    "    elif not isinstance(feature_map, (QuantumCircuit, FeatureMap)):\n",
    "        result_msg += 'feature_map variable should be a QuantumCircuit or a FeatureMap not (%s)' % \\\n",
    "                      type(feature_map) if verbose else ''\n",
    "    elif not isinstance(variational_form, (QuantumCircuit, VariationalForm)):\n",
    "        result_msg += 'variational_form variable should be a QuantumCircuit or a VariationalForm not (%s)' % \\\n",
    "                      type(variational_form) if verbose else ''\n",
    "    elif not isinstance(test_data, np.ndarray):\n",
    "        result_msg += 'test_data variable should be a numpy.ndarray not (%s)' % \\\n",
    "                      type(test_data) if verbose else ''\n",
    "    elif not isinstance(test_labels, np.ndarray):\n",
    "        result_msg += 'test_labels variable should be a numpy.ndarray not (%s)' % \\\n",
    "                      type(test_labels) if verbose else ''\n",
    "    elif not isinstance(optimal_params, np.ndarray):\n",
    "        result_msg += 'optimal_params variable should be a numpy.ndarray not (%s)' % \\\n",
    "                      type(optimal_params) if verbose else ''\n",
    "    elif not dataset_size == test_labels_transformed.shape[0]:\n",
    "        result_msg += 'Dataset size and label array size must be equal'\n",
    "    # Section 2\n",
    "    else:\n",
    "        \n",
    "        # setting up COBYLA optimizer as a dummy optimizer\n",
    "        from qiskit.aqua.components.optimizers import COBYLA\n",
    "        dummy_optimizer = COBYLA()\n",
    "\n",
    "        # setting up the backend and creating a quantum instance\n",
    "        backend = Aer.get_backend('qasm_simulator')\n",
    "        backend_options = {\"method\": \"statevector\"}\n",
    "        quantum_instance = QuantumInstance(backend, \n",
    "                                           shots=2000, \n",
    "                                           seed_simulator=seed, \n",
    "                                           seed_transpiler=seed, \n",
    "                                           backend_options=backend_options)\n",
    "\n",
    "        # creating a VQC instance and running the VQC.predict method to get the accuracy of the model \n",
    "        vqc = VQC(optimizer=dummy_optimizer, \n",
    "                  feature_map=feature_map, \n",
    "                  var_form=variational_form, \n",
    "                  training_dataset=dummy_training_dataset)\n",
    "        \n",
    "        from qiskit.transpiler import PassManager\n",
    "        from qiskit.transpiler.passes import Unroller\n",
    "        pass_ = Unroller(['u3', 'cx'])\n",
    "        pm = PassManager(pass_)\n",
    "        # construct circuit with first datapoint\n",
    "        circuit = vqc.construct_circuit(data[0], optimal_params)\n",
    "        unrolled_circuit = pm.run(circuit)\n",
    "        gates = unrolled_circuit.count_ops()\n",
    "        if 'u3' in gates: \n",
    "            circuit_cost = gates['u3']\n",
    "        if 'cx' in gates: \n",
    "            circuit_cost+= 10*gates['cx']\n",
    "        \n",
    "        if circuit.num_qubits > max_qubit_count:\n",
    "            result_msg += 'Your quantum circuit is using more than 6 qubits. Reduce the number of qubits used and try again.'\n",
    "        elif circuit_cost > max_circuit_cost:\n",
    "            result_msg += 'The cost of your circuit is exceeding the maximum accpetable cost of 2000. Reduce the circuit cost and try again.'\n",
    "        else: \n",
    "            \n",
    "            ans = vqc.predict(test_data, quantum_instance=quantum_instance, params=np.array(optimal_params))\n",
    "            model_accuracy = np.sum(np.equal(test_labels_transformed, ans[1]))/len(ans[1])\n",
    "\n",
    "            result_msg += 'Accuracy of the model is {}'.format(model_accuracy) if verbose else ''\n",
    "            result_msg += ' and circuit cost is {}'.format(circuit_cost) if verbose else ''\n",
    "            \n",
    "    return model_accuracy, circuit_cost, ans, result_msg, unrolled_circuit"
   ]
  },
  {
   "cell_type": "markdown",
   "metadata": {},
   "source": [
    "## Process of grading using a dummy grading dataset\n",
    "\n",
    "Let us create a dummy grading dataset with features and labels `grading_features` and `grading_labels` created from the last 2000 datapoints from `data_features` and `data_labels`so that we can a rough estimate of our accuaracy. It must be noted that this may not be a balanced dataset, i.e, may not have equal number of `4`'s and `9`'s and is not best practice. This is only given for the purpose of the demo of `grade()` function. In the final scoring done on HackerEarth, the testing dataset used will have a balanced number of class labels `4` and `9`."
   ]
  },
  {
   "cell_type": "code",
   "execution_count": null,
   "metadata": {},
   "outputs": [],
   "source": [
    "grading_dataset_size=2000    # this value is not per digit but in total\n",
    "grading_features = data_features[-grading_dataset_size:]\n",
    "grading_labels = data_labels[-grading_dataset_size:]"
   ]
  },
  {
   "cell_type": "code",
   "execution_count": null,
   "metadata": {},
   "outputs": [],
   "source": [
    "start = time.process_time()\n",
    "\n",
    "accuracy, circuit_cost, ans, result_msg, full_circuit  =  grade(test_data=grading_features, \n",
    "                                                                test_labels=grading_labels, \n",
    "                                                                feature_map=feature_map(), \n",
    "                                                                variational_form=variational_circuit(), \n",
    "                                                                optimal_params=return_optimal_params())\n",
    "\n",
    "print(\"time taken: {} seconds\".format(time.process_time() - start))\n",
    "print(result_msg)"
   ]
  },
  {
   "cell_type": "markdown",
   "metadata": {},
   "source": [
    "You can also check your **accuracy**, **circuit_cost** and **full_circuit** which is the result of combining the feature map and variational circuit and unrolling into the basis \\['u3', 'cx'\\]."
   ]
  },
  {
   "cell_type": "code",
   "execution_count": null,
   "metadata": {},
   "outputs": [],
   "source": [
    "print(\"Accuracy of the model: {}\".format(accuracy))\n",
    "print(\"Circuit Cost: {}\".format(circuit_cost))\n",
    "print(\"The complete unrolled circuit: \")\n",
    "full_circuit.draw()"
   ]
  },
  {
   "cell_type": "code",
   "execution_count": null,
   "metadata": {},
   "outputs": [],
   "source": []
  }
 ],
 "metadata": {
  "kernelspec": {
   "display_name": "Python 3",
   "language": "python",
   "name": "python3"
  },
  "language_info": {
   "codemirror_mode": {
    "name": "ipython",
    "version": 3
   },
   "file_extension": ".py",
   "mimetype": "text/x-python",
   "name": "python",
   "nbconvert_exporter": "python",
   "pygments_lexer": "ipython3",
   "version": "3.8.3"
  }
 },
 "nbformat": 4,
 "nbformat_minor": 4
}
